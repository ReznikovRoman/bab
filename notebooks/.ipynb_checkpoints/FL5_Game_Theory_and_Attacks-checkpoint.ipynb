{
 "cells": [
  {
   "cell_type": "code",
   "execution_count": 1,
   "id": "df44a71f",
   "metadata": {},
   "outputs": [],
   "source": [
    "import numpy"
   ]
  },
  {
   "cell_type": "markdown",
   "id": "f695eb33",
   "metadata": {},
   "source": [
    "Pool Cannibalization Breakdown (31:13) \n",
    "This is how they get "
   ]
  },
  {
   "cell_type": "markdown",
   "id": "8e494622",
   "metadata": {},
   "source": [
    "That's baseline marginal revenue from adding another miner to your pool"
   ]
  },
  {
   "cell_type": "code",
   "execution_count": 7,
   "id": "218af750",
   "metadata": {},
   "outputs": [
    {
     "data": {
      "text/plain": [
       "0.006930693069306937"
      ]
     },
     "execution_count": 7,
     "metadata": {},
     "output_type": "execute_result"
    }
   ],
   "source": [
    "31/101 - 30/100"
   ]
  },
  {
   "cell_type": "markdown",
   "id": "02e00b67",
   "metadata": {},
   "source": [
    "That's how they compute marginal revenue from Cannibalization"
   ]
  },
  {
   "cell_type": "code",
   "execution_count": 8,
   "id": "6098105e",
   "metadata": {},
   "outputs": [
    {
     "data": {
      "text/plain": [
       "0.009761539534235142"
      ]
     },
     "execution_count": 8,
     "metadata": {},
     "output_type": "execute_result"
    }
   ],
   "source": [
    "(1/71 * 70/101 + 30/100) - 30/100"
   ]
  },
  {
   "cell_type": "markdown",
   "id": "49b7af3c",
   "metadata": {},
   "source": [
    "I would argue that above is incorrect because you actually are now mining using 31 Hashes because the marginal 1 Hash will bring the block to you. So the reward from Cannibalization is even larger"
   ]
  },
  {
   "cell_type": "code",
   "execution_count": 9,
   "id": "a991642f",
   "metadata": {},
   "outputs": [
    {
     "data": {
      "text/plain": [
       "0.01669223260354208"
      ]
     },
     "execution_count": 9,
     "metadata": {},
     "output_type": "execute_result"
    }
   ],
   "source": [
    "(1/71 * 70/101 + 31/101) - 30/100"
   ]
  },
  {
   "cell_type": "markdown",
   "id": "5ec96daf",
   "metadata": {},
   "source": []
  }
 ],
 "metadata": {
  "kernelspec": {
   "display_name": "Python 3 (ipykernel)",
   "language": "python",
   "name": "python3"
  },
  "language_info": {
   "codemirror_mode": {
    "name": "ipython",
    "version": 3
   },
   "file_extension": ".py",
   "mimetype": "text/x-python",
   "name": "python",
   "nbconvert_exporter": "python",
   "pygments_lexer": "ipython3",
   "version": "3.9.4"
  }
 },
 "nbformat": 4,
 "nbformat_minor": 5
}
